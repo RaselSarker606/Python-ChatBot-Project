{
  "nbformat": 4,
  "nbformat_minor": 0,
  "metadata": {
    "colab": {
      "provenance": [],
      "gpuType": "T4"
    },
    "kernelspec": {
      "name": "python3",
      "display_name": "Python 3"
    },
    "language_info": {
      "name": "python"
    },
    "accelerator": "GPU"
  },
  "cells": [
    {
      "cell_type": "markdown",
      "source": [
        "#Python-ChatBot Project"
      ],
      "metadata": {
        "id": "R1M22oIe-p1T"
      }
    },
    {
      "cell_type": "code",
      "execution_count": 2,
      "metadata": {
        "id": "wTYsjMuIkQG1"
      },
      "outputs": [],
      "source": [
        "import numpy as np\n",
        "import nltk\n",
        "import random\n",
        "\n",
        "\n",
        "f = open(r'/content/DataSci.txt')\n",
        "text = f.read()"
      ]
    },
    {
      "cell_type": "code",
      "source": [
        "print(text)"
      ],
      "metadata": {
        "colab": {
          "base_uri": "https://localhost:8080/"
        },
        "id": "aPjZA8bfk1cR",
        "outputId": "da34d719-b2cd-4dff-8e41-e64c7bcac0d1"
      },
      "execution_count": 3,
      "outputs": [
        {
          "output_type": "stream",
          "name": "stdout",
          "text": [
            "Data science is an interdisciplinary academic field[1] that uses statistics, scientific computing, scientific methods, processing, scientific visualization, algorithms and systems to extract or extrapolate knowledge from potentially noisy, structured, or unstructured data.[2]\n",
            "\n",
            "Data science also integrates domain knowledge from the underlying application domain (e.g., natural sciences, information technology, and medicine).[3] Data science is multifaceted and can be described as a science, a research paradigm, a research method, a discipline, a workflow, and a profession.[4]\n",
            "\n",
            "Data science is \"a concept to unify statistics, data analysis, informatics, and their related methods\" to \"understand and analyze actual phenomena\" with data.[5] It uses techniques and theories drawn from many fields within the context of mathematics, statistics, computer science, information science, and domain knowledge.[6] However, data science is different from computer science and information science. Turing Award winner Jim Gray imagined data science as a \"fourth paradigm\" of science (empirical, theoretical, computational, and now data-driven) and asserted that \"everything about science is changing because of the impact of information technology\" and the data deluge.[7][8]\n",
            "\n",
            "A data scientist is a professional who creates programming code and combines it with statistical knowledge to summarize data.[9]\n",
            "\n",
            "Foundations\n",
            "Data science is an interdisciplinary field[10] focused on extracting knowledge from typically large data sets and applying the knowledge from that data to solve problems in other application domains. The field encompasses preparing data for analysis, formulating data science problems, analyzing data, and summarizing these findings. As such, it incorporates skills from computer science, mathematics, data visualization, graphic design, communication, and business.[11]\n",
            "\n",
            "Vasant Dhar writes that statistics emphasizes quantitative data and description. In contrast, data science deals with quantitative and qualitative data (e.g., from images, text, sensors, transactions, customer information, etc.) and emphasizes prediction and action.[12] Andrew Gelman of Columbia University has described statistics as a non-essential part of data science.[13] Stanford professor David Donoho writes that data science is not distinguished from statistics by the size of datasets or use of computing and that many graduate programs misleadingly advertise their analytics and statistics training as the essence of a data-science program. He describes data science as an applied field growing out of traditional statistics.[14]\n",
            "\n",
            "Etymology\n",
            "Early usage\n",
            "In 1962, John Tukey described a field he called \"data analysis\", which resembles modern data science.[14] In 1985, in a lecture given to the Chinese Academy of Sciences in Beijing, C. F. Jeff Wu used the term \"data science\" for the first time as an alternative name for statistics.[15] Later, attendees at a 1992 statistics symposium at the University of Montpellier  II acknowledged the emergence of a new discipline focused on data of various origins and forms, combining established concepts and principles of statistics and data analysis with computing.[16][17]\n",
            "\n",
            "The term \"data science\" has been traced back to 1974, when Peter Naur proposed it as an alternative name to computer science.[6] In 1996, the International Federation of Classification Societies became the first conference to specifically feature data science as a topic.[6] However, the definition was still in flux. After the 1985 lecture at the Chinese Academy of Sciences in Beijing, in 1997 C. F. Jeff Wu again suggested that statistics should be renamed data science. He reasoned that a new name would help statistics shed inaccurate stereotypes, such as being synonymous with accounting or limited to describing data.[18] In 1998, Hayashi Chikio argued for data science as a new, interdisciplinary concept, with three aspects: data design, collection, and analysis.[17]\n",
            "\n",
            "Modern usage\n",
            "In 2012, technologists Thomas H. Davenport and DJ Patil declared \"Data Scientist: The Sexiest Job of the 21st Century\",[19] a catchphrase that was picked up even by major-city newspapers like the New York Times[20] and the Boston Globe.[21] A decade later, they reaffirmed it, stating that \"the job is more in demand than ever with employers\".[22]\n",
            "\n",
            "The modern conception of data science as an independent discipline is sometimes attributed to William S. Cleveland.[23] In 2014, the American Statistical Association's Section on Statistical Learning and Data Mining changed its name to the Section on Statistical Learning and Data Science, reflecting the ascendant popularity of data science.[24]\n",
            "\n",
            "The professional title of \"data scientist\" has been attributed to DJ Patil and Jeff Hammerbacher in 2008.[25] Though it was used by the National Science Board in their 2005 report \"Long-Lived Digital Data Collections: Enabling Research and Education in the 21st Century\", it referred broadly to any key role in managing a digital data collection.[26]\n",
            "\n",
            "Data science and data analysis\n",
            "summary statistics and scatterplots showing the Datasaurus dozen data set\n",
            "Example for the usefulness of exploratory data analysis as demonstrated using the Datasaurus dozen data set\n",
            "\n",
            "Data science is at the intersection of mathematics, computer science and domain expertise.\n",
            "Data analysis typically involves working with structured datasets to answer specific questions or solve specific problems. This can involve tasks such as data cleaning and data visualization to summarize data and develop hypotheses about relationships between variables. Data analysts typically use statistical methods to test these hypotheses and draw conclusions from the data.[27]\n",
            "\n",
            "Data science involves working with larger datasets that often require advanced computational and statistical methods to analyze. Data scientists often work with unstructured data such as text or images and use machine learning algorithms to build predictive models. Data science often uses statistical analysis, data preprocessing, and supervised learning.[28][29]\n",
            "\n",
            "Cloud computing for data science\n",
            "\n",
            "A cloud-based architecture for enabling big data analytics. Data flows from various sources, such as personal computers, laptops, and smart phones, through cloud services for processing and analysis, finally leading to various big data applications.\n",
            "Cloud computing can offer access to large amounts of computational power and storage.[30] In big data, where volumes of information are continually generated and processed, these platforms can be used to handle complex and resource-intensive analytical tasks.[31]\n",
            "\n",
            "Some distributed computing frameworks are designed to handle big data workloads. These frameworks can enable data scientists to process and analyze large datasets in parallel, which can reduce processing times.[32]\n",
            "\n",
            "Ethical consideration in data science\n",
            "Data science involves collecting, processing, and analyzing data which often includes personal and sensitive information. Ethical concerns include potential privacy violations, bias perpetuation, and negative societal impacts.[33][34]\n",
            "\n",
            "Machine learning models can amplify existing biases present in training data, leading to discriminatory or unfair outcomes.[35][36]\n",
            "\n",
            "See also\n",
            "Python (programming language)\n",
            "R (programming language)\n",
            "Data engineering\n",
            "Big data\n",
            "Machine learning\n",
            "Bioinformatics\n",
            "Astroinformatics\n",
            "Topological data analysis\n",
            "List of open-source data science software\n",
            "References\n",
            " Donoho, David (2017). \"50 Years of Data Science\". Journal of Computational and Graphical Statistics. 26 (4): 745–766. doi:10.1080/10618600.2017.1384734. S2CID 114558008.\n",
            " Dhar, V. (2013). \"Data science and prediction\". Communications of the ACM. 56 (12): 64–73. doi:10.1145/2500499. S2CID 6107147. Archived from the original on 9 November 2014. Retrieved 2 September 2015.\n",
            " Danyluk, A.; Leidig, P. (2021). Computing Competencies for Undergraduate Data Science Curricula (PDF). ACM Data Science Task Force Final Report (Report).\n",
            " Mike, Koby; Hazzan, Orit (20 January 2023). \"What is Data Science?\". Communications of the ACM. 66 (2): 12–13. doi:10.1145/3575663. ISSN 0001-0782.\n",
            " Hayashi, Chikio (1 January 1998). \"What is Data Science ? Fundamental Concepts and a Heuristic Example\". In Hayashi, Chikio; Yajima, Keiji; Bock, Hans-Hermann; Ohsumi, Noboru; Tanaka, Yutaka; Baba, Yasumasa (eds.). Data Science, Classification, and Related Methods. Studies in Classification, Data Analysis, and Knowledge Organization. Springer Japan. pp. 40–51. doi:10.1007/978-4-431-65950-1_3. ISBN 9784431702085.\n",
            " Cao, Longbing (29 June 2017). \"Data Science: A Comprehensive Overview\". ACM Computing Surveys. 50 (3): 43:1–43:42. arXiv:2007.03606. doi:10.1145/3076253. ISSN 0360-0300. S2CID 207595944.\n",
            " Tony Hey; Stewart Tansley; Kristin Michele Tolle (2009). The Fourth Paradigm: Data-intensive Scientific Discovery. Microsoft Research. ISBN 978-0-9825442-0-4. Archived from the original on 20 March 2017.\n",
            " Bell, G.; Hey, T.; Szalay, A. (2009). \"Computer Science: Beyond the Data Deluge\". Science. 323 (5919): 1297–1298. doi:10.1126/science.1170411. ISSN 0036-8075. PMID 19265007. S2CID 9743327.\n",
            " Davenport, Thomas H.; Patil, D. J. (October 2012). \"Data Scientist: The Sexiest Job of the 21st Century\". Harvard Business Review. 90 (10): 70–76, 128. PMID 23074866. Retrieved 18 January 2016.\n",
            " Emmert-Streib, Frank; Dehmer, Matthias (2018). \"Defining data science by a data-driven quantification of the community\". Machine Learning and Knowledge Extraction. 1: 235–251. doi:10.3390/make1010015.\n",
            " \"1. Introduction: What Is Data Science?\". Doing Data Science [Book]. O’Reilly. Retrieved 3 April 2020.\n",
            " Vasant Dhar (1 December 2013). \"Data science and prediction\". Communications of the ACM. 56 (12): 64–73. doi:10.1145/2500499. S2CID 6107147.\n",
            " \"Statistics is the least important part of data science « Statistical Modeling, Causal Inference, and Social Science\". statmodeling.stat.columbia.edu. Retrieved 3 April 2020.\n",
            " Donoho, David (18 September 2015). \"50 years of Data Science\" (PDF). Retrieved 2 April 2020.\n",
            " Wu, C. F. Jeff (1986). \"Future directions of statistical research in China: a historical perspective\" (PDF). Application of Statistics and Management. 1: 1–7. Retrieved 29 November 2020.\n",
            " Escoufier, Yves; Hayashi, Chikio; Fichet, Bernard, eds. (1995). Data science and its applications. Tokyo: Academic Press/Harcourt Brace. ISBN 0-12-241770-4. OCLC 489990740.\n",
            " Murtagh, Fionn; Devlin, Keith (2018). \"The Development of Data Science: Implications for Education, Employment, Research, and the Data Revolution for Sustainable Development\". Big Data and Cognitive Computing. 2 (2): 14. doi:10.3390/bdcc2020014.\n",
            " Wu, C. F. Jeff. \"Statistics=Data Science?\" (PDF). Retrieved 2 April 2020.\n",
            " Davenport, Thomas (1 October 2012). \"Data Scientist: The Sexiest Job of the 21st Century\". Harvard Business Review. Retrieved 10 October 2022.\n",
            " Miller, Claire (4 April 2013). \"Data Science: The Numbers of Our Lives\". New York Times. New York City. Retrieved 10 October 2022.\n",
            " Borchers, Callum (11 November 2015). \"Behind the scenes of the 'sexiest job of the 21st century'\". Boston Globe. Boston. Retrieved 10 October 2022.\n",
            " Davenport, Thomas (15 July 2022). \"Is Data Scientist Still the Sexiest Job of the 21st Century?\". Harvard Business Review. Retrieved 10 October 2022.\n",
            " Gupta, Shanti (11 December 2015). \"William S. Cleveland\". Retrieved 2 April 2020.\n",
            " Talley, Jill (1 June 2016). \"ASA Expands Scope, Outreach to Foster Growth, Collaboration in Data Science\". Amstat News. American Statistical Association.. In 2013 the first European Conference on Data Analysis (ECDA2013) started in Luxembourg the process which founded the European Association for Data Science (EuADS) www.euads.org in Luxembourg in 2015.\n",
            " Davenport, Thomas H.; Patil, D. J. (1 October 2012). \"Data Scientist: The Sexiest Job of the 21st Century\". Harvard Business Review. No. October 2012. ISSN 0017-8012. Retrieved 3 April 2020.\n",
            " \"US NSF – NSB-05-40, Long-Lived Digital Data Collections Enabling Research and Education in the 21st Century\". www.nsf.gov. Retrieved 3 April 2020.\n",
            " James, Gareth; Witten, Daniela; Hastie, Trevor; Tibshirani, Robert (29 September 2017). An Introduction to Statistical Learning: with Applications in R. Springer.\n",
            " Provost, Foster; Tom Fawcett (1 August 2013). \"Data Science for Business: What You Need to Know about Data Mining and Data-Analytic Thinking\". O'Reilly Media, Inc.\n",
            " Han, Kamber; Pei (2011). Data Mining: Concepts and Techniques. ISBN 9780123814791.\n",
            " Hashem, Ibrahim Abaker Targio; Yaqoob, Ibrar; Anuar, Nor Badrul; Mokhtar, Salimah; Gani, Abdullah; Ullah Khan, Samee (2015). \"The rise of \"big data\" on cloud computing: Review and open research issues\". Information Systems. 47: 98–115. doi:10.1016/j.is.2014.07.006.\n",
            " Qiu, Junfei; Wu, Qihui; Ding, Guoru; Xu, Yuhua; Feng, Shuo (2016). \"A survey of machine learning for big data processing\". EURASIP Journal on Advances in Signal Processing. 2016 (1). doi:10.1186/s13634-016-0355-x. ISSN 1687-6180.\n",
            " Armbrust, Michael; Xin, Reynold S.; Lian, Cheng; Huai, Yin; Liu, Davies; Bradley, Joseph K.; Meng, Xiangrui; Kaftan, Tomer; Franklin, Michael J.; Ghodsi, Ali; Zaharia, Matei (27 May 2015). \"Spark SQL: Relational Data Processing in Spark\". Proceedings of the 2015 ACM SIGMOD International Conference on Management of Data. ACM. pp. 1383–1394. doi:10.1145/2723372.2742797. ISBN 978-1-4503-2758-9.\n",
            " Floridi, Luciano; Taddeo, Mariarosaria (28 December 2016). \"What is data ethics?\". Philosophical Transactions of the Royal Society A: Mathematical, Physical and Engineering Sciences. 374 (2083): 20160360. Bibcode:2016RSPTA.37460360F. doi:10.1098/rsta.2016.0360. ISSN 1364-503X. PMC 5124072. PMID 28336805.\n",
            " Mittelstadt, Brent Daniel; Floridi, Luciano (2016). \"The Ethics of Big Data: Current and Foreseeable Issues in Biomedical Contexts\". Science and Engineering Ethics. 22 (2): 303–341. doi:10.1007/s11948-015-9652-2. ISSN 1353-3452. PMID 26002496.\n",
            " Barocas, Solon; Selbst, Andrew D (2016). \"Big Data's Disparate Impact\". California Law Review. doi:10.15779/Z38BG31 – via Berkeley Law Library Catalog.\n",
            " Caliskan, Aylin; Bryson, Joanna J.; Narayanan, Arvind (14 April 2017). \"Semantics derived automatically from language corpora contain human-like biases\". Science. 356 (6334): 183–186. arXiv:1608.07187. Bibcode:2017Sci...356..183C. doi:10.1126/science.aal4230. ISSN 0036-8075.\n"
          ]
        }
      ]
    },
    {
      "cell_type": "code",
      "source": [
        "nltk.download('punkt_tab')\n",
        "\n",
        "text = text.lower()\n",
        "word_token = nltk.word_tokenize(text)\n",
        "sent_token = nltk.sent_tokenize(text)"
      ],
      "metadata": {
        "colab": {
          "base_uri": "https://localhost:8080/"
        },
        "id": "DQFc7Q6pk4wb",
        "outputId": "7d45daf5-7378-40ac-8d7f-c384c8214bb5"
      },
      "execution_count": 4,
      "outputs": [
        {
          "output_type": "stream",
          "name": "stderr",
          "text": [
            "[nltk_data] Downloading package punkt_tab to /root/nltk_data...\n",
            "[nltk_data]   Unzipping tokenizers/punkt_tab.zip.\n"
          ]
        }
      ]
    },
    {
      "cell_type": "code",
      "source": [
        "print(word_token)\n",
        "print(sent_token)"
      ],
      "metadata": {
        "colab": {
          "base_uri": "https://localhost:8080/"
        },
        "id": "DWKszVrYlFRt",
        "outputId": "b162e607-2700-4696-bb56-b8c75223c356"
      },
      "execution_count": 5,
      "outputs": [
        {
          "output_type": "stream",
          "name": "stdout",
          "text": [
            "['data', 'science', 'is', 'an', 'interdisciplinary', 'academic', 'field', '[', '1', ']', 'that', 'uses', 'statistics', ',', 'scientific', 'computing', ',', 'scientific', 'methods', ',', 'processing', ',', 'scientific', 'visualization', ',', 'algorithms', 'and', 'systems', 'to', 'extract', 'or', 'extrapolate', 'knowledge', 'from', 'potentially', 'noisy', ',', 'structured', ',', 'or', 'unstructured', 'data', '.', '[', '2', ']', 'data', 'science', 'also', 'integrates', 'domain', 'knowledge', 'from', 'the', 'underlying', 'application', 'domain', '(', 'e.g.', ',', 'natural', 'sciences', ',', 'information', 'technology', ',', 'and', 'medicine', ')', '.', '[', '3', ']', 'data', 'science', 'is', 'multifaceted', 'and', 'can', 'be', 'described', 'as', 'a', 'science', ',', 'a', 'research', 'paradigm', ',', 'a', 'research', 'method', ',', 'a', 'discipline', ',', 'a', 'workflow', ',', 'and', 'a', 'profession', '.', '[', '4', ']', 'data', 'science', 'is', '``', 'a', 'concept', 'to', 'unify', 'statistics', ',', 'data', 'analysis', ',', 'informatics', ',', 'and', 'their', 'related', 'methods', \"''\", 'to', '``', 'understand', 'and', 'analyze', 'actual', 'phenomena', \"''\", 'with', 'data', '.', '[', '5', ']', 'it', 'uses', 'techniques', 'and', 'theories', 'drawn', 'from', 'many', 'fields', 'within', 'the', 'context', 'of', 'mathematics', ',', 'statistics', ',', 'computer', 'science', ',', 'information', 'science', ',', 'and', 'domain', 'knowledge', '.', '[', '6', ']', 'however', ',', 'data', 'science', 'is', 'different', 'from', 'computer', 'science', 'and', 'information', 'science', '.', 'turing', 'award', 'winner', 'jim', 'gray', 'imagined', 'data', 'science', 'as', 'a', '``', 'fourth', 'paradigm', \"''\", 'of', 'science', '(', 'empirical', ',', 'theoretical', ',', 'computational', ',', 'and', 'now', 'data-driven', ')', 'and', 'asserted', 'that', '``', 'everything', 'about', 'science', 'is', 'changing', 'because', 'of', 'the', 'impact', 'of', 'information', 'technology', \"''\", 'and', 'the', 'data', 'deluge', '.', '[', '7', ']', '[', '8', ']', 'a', 'data', 'scientist', 'is', 'a', 'professional', 'who', 'creates', 'programming', 'code', 'and', 'combines', 'it', 'with', 'statistical', 'knowledge', 'to', 'summarize', 'data', '.', '[', '9', ']', 'foundations', 'data', 'science', 'is', 'an', 'interdisciplinary', 'field', '[', '10', ']', 'focused', 'on', 'extracting', 'knowledge', 'from', 'typically', 'large', 'data', 'sets', 'and', 'applying', 'the', 'knowledge', 'from', 'that', 'data', 'to', 'solve', 'problems', 'in', 'other', 'application', 'domains', '.', 'the', 'field', 'encompasses', 'preparing', 'data', 'for', 'analysis', ',', 'formulating', 'data', 'science', 'problems', ',', 'analyzing', 'data', ',', 'and', 'summarizing', 'these', 'findings', '.', 'as', 'such', ',', 'it', 'incorporates', 'skills', 'from', 'computer', 'science', ',', 'mathematics', ',', 'data', 'visualization', ',', 'graphic', 'design', ',', 'communication', ',', 'and', 'business', '.', '[', '11', ']', 'vasant', 'dhar', 'writes', 'that', 'statistics', 'emphasizes', 'quantitative', 'data', 'and', 'description', '.', 'in', 'contrast', ',', 'data', 'science', 'deals', 'with', 'quantitative', 'and', 'qualitative', 'data', '(', 'e.g.', ',', 'from', 'images', ',', 'text', ',', 'sensors', ',', 'transactions', ',', 'customer', 'information', ',', 'etc', '.', ')', 'and', 'emphasizes', 'prediction', 'and', 'action', '.', '[', '12', ']', 'andrew', 'gelman', 'of', 'columbia', 'university', 'has', 'described', 'statistics', 'as', 'a', 'non-essential', 'part', 'of', 'data', 'science', '.', '[', '13', ']', 'stanford', 'professor', 'david', 'donoho', 'writes', 'that', 'data', 'science', 'is', 'not', 'distinguished', 'from', 'statistics', 'by', 'the', 'size', 'of', 'datasets', 'or', 'use', 'of', 'computing', 'and', 'that', 'many', 'graduate', 'programs', 'misleadingly', 'advertise', 'their', 'analytics', 'and', 'statistics', 'training', 'as', 'the', 'essence', 'of', 'a', 'data-science', 'program', '.', 'he', 'describes', 'data', 'science', 'as', 'an', 'applied', 'field', 'growing', 'out', 'of', 'traditional', 'statistics', '.', '[', '14', ']', 'etymology', 'early', 'usage', 'in', '1962', ',', 'john', 'tukey', 'described', 'a', 'field', 'he', 'called', '``', 'data', 'analysis', \"''\", ',', 'which', 'resembles', 'modern', 'data', 'science', '.', '[', '14', ']', 'in', '1985', ',', 'in', 'a', 'lecture', 'given', 'to', 'the', 'chinese', 'academy', 'of', 'sciences', 'in', 'beijing', ',', 'c.', 'f.', 'jeff', 'wu', 'used', 'the', 'term', '``', 'data', 'science', \"''\", 'for', 'the', 'first', 'time', 'as', 'an', 'alternative', 'name', 'for', 'statistics', '.', '[', '15', ']', 'later', ',', 'attendees', 'at', 'a', '1992', 'statistics', 'symposium', 'at', 'the', 'university', 'of', 'montpellier', 'ii', 'acknowledged', 'the', 'emergence', 'of', 'a', 'new', 'discipline', 'focused', 'on', 'data', 'of', 'various', 'origins', 'and', 'forms', ',', 'combining', 'established', 'concepts', 'and', 'principles', 'of', 'statistics', 'and', 'data', 'analysis', 'with', 'computing', '.', '[', '16', ']', '[', '17', ']', 'the', 'term', '``', 'data', 'science', \"''\", 'has', 'been', 'traced', 'back', 'to', '1974', ',', 'when', 'peter', 'naur', 'proposed', 'it', 'as', 'an', 'alternative', 'name', 'to', 'computer', 'science', '.', '[', '6', ']', 'in', '1996', ',', 'the', 'international', 'federation', 'of', 'classification', 'societies', 'became', 'the', 'first', 'conference', 'to', 'specifically', 'feature', 'data', 'science', 'as', 'a', 'topic', '.', '[', '6', ']', 'however', ',', 'the', 'definition', 'was', 'still', 'in', 'flux', '.', 'after', 'the', '1985', 'lecture', 'at', 'the', 'chinese', 'academy', 'of', 'sciences', 'in', 'beijing', ',', 'in', '1997', 'c.', 'f.', 'jeff', 'wu', 'again', 'suggested', 'that', 'statistics', 'should', 'be', 'renamed', 'data', 'science', '.', 'he', 'reasoned', 'that', 'a', 'new', 'name', 'would', 'help', 'statistics', 'shed', 'inaccurate', 'stereotypes', ',', 'such', 'as', 'being', 'synonymous', 'with', 'accounting', 'or', 'limited', 'to', 'describing', 'data', '.', '[', '18', ']', 'in', '1998', ',', 'hayashi', 'chikio', 'argued', 'for', 'data', 'science', 'as', 'a', 'new', ',', 'interdisciplinary', 'concept', ',', 'with', 'three', 'aspects', ':', 'data', 'design', ',', 'collection', ',', 'and', 'analysis', '.', '[', '17', ']', 'modern', 'usage', 'in', '2012', ',', 'technologists', 'thomas', 'h.', 'davenport', 'and', 'dj', 'patil', 'declared', '``', 'data', 'scientist', ':', 'the', 'sexiest', 'job', 'of', 'the', '21st', 'century', \"''\", ',', '[', '19', ']', 'a', 'catchphrase', 'that', 'was', 'picked', 'up', 'even', 'by', 'major-city', 'newspapers', 'like', 'the', 'new', 'york', 'times', '[', '20', ']', 'and', 'the', 'boston', 'globe', '.', '[', '21', ']', 'a', 'decade', 'later', ',', 'they', 'reaffirmed', 'it', ',', 'stating', 'that', '``', 'the', 'job', 'is', 'more', 'in', 'demand', 'than', 'ever', 'with', 'employers', \"''\", '.', '[', '22', ']', 'the', 'modern', 'conception', 'of', 'data', 'science', 'as', 'an', 'independent', 'discipline', 'is', 'sometimes', 'attributed', 'to', 'william', 's', '.', 'cleveland', '.', '[', '23', ']', 'in', '2014', ',', 'the', 'american', 'statistical', 'association', \"'s\", 'section', 'on', 'statistical', 'learning', 'and', 'data', 'mining', 'changed', 'its', 'name', 'to', 'the', 'section', 'on', 'statistical', 'learning', 'and', 'data', 'science', ',', 'reflecting', 'the', 'ascendant', 'popularity', 'of', 'data', 'science', '.', '[', '24', ']', 'the', 'professional', 'title', 'of', '``', 'data', 'scientist', \"''\", 'has', 'been', 'attributed', 'to', 'dj', 'patil', 'and', 'jeff', 'hammerbacher', 'in', '2008', '.', '[', '25', ']', 'though', 'it', 'was', 'used', 'by', 'the', 'national', 'science', 'board', 'in', 'their', '2005', 'report', '``', 'long-lived', 'digital', 'data', 'collections', ':', 'enabling', 'research', 'and', 'education', 'in', 'the', '21st', 'century', \"''\", ',', 'it', 'referred', 'broadly', 'to', 'any', 'key', 'role', 'in', 'managing', 'a', 'digital', 'data', 'collection', '.', '[', '26', ']', 'data', 'science', 'and', 'data', 'analysis', 'summary', 'statistics', 'and', 'scatterplots', 'showing', 'the', 'datasaurus', 'dozen', 'data', 'set', 'example', 'for', 'the', 'usefulness', 'of', 'exploratory', 'data', 'analysis', 'as', 'demonstrated', 'using', 'the', 'datasaurus', 'dozen', 'data', 'set', 'data', 'science', 'is', 'at', 'the', 'intersection', 'of', 'mathematics', ',', 'computer', 'science', 'and', 'domain', 'expertise', '.', 'data', 'analysis', 'typically', 'involves', 'working', 'with', 'structured', 'datasets', 'to', 'answer', 'specific', 'questions', 'or', 'solve', 'specific', 'problems', '.', 'this', 'can', 'involve', 'tasks', 'such', 'as', 'data', 'cleaning', 'and', 'data', 'visualization', 'to', 'summarize', 'data', 'and', 'develop', 'hypotheses', 'about', 'relationships', 'between', 'variables', '.', 'data', 'analysts', 'typically', 'use', 'statistical', 'methods', 'to', 'test', 'these', 'hypotheses', 'and', 'draw', 'conclusions', 'from', 'the', 'data', '.', '[', '27', ']', 'data', 'science', 'involves', 'working', 'with', 'larger', 'datasets', 'that', 'often', 'require', 'advanced', 'computational', 'and', 'statistical', 'methods', 'to', 'analyze', '.', 'data', 'scientists', 'often', 'work', 'with', 'unstructured', 'data', 'such', 'as', 'text', 'or', 'images', 'and', 'use', 'machine', 'learning', 'algorithms', 'to', 'build', 'predictive', 'models', '.', 'data', 'science', 'often', 'uses', 'statistical', 'analysis', ',', 'data', 'preprocessing', ',', 'and', 'supervised', 'learning', '.', '[', '28', ']', '[', '29', ']', 'cloud', 'computing', 'for', 'data', 'science', 'a', 'cloud-based', 'architecture', 'for', 'enabling', 'big', 'data', 'analytics', '.', 'data', 'flows', 'from', 'various', 'sources', ',', 'such', 'as', 'personal', 'computers', ',', 'laptops', ',', 'and', 'smart', 'phones', ',', 'through', 'cloud', 'services', 'for', 'processing', 'and', 'analysis', ',', 'finally', 'leading', 'to', 'various', 'big', 'data', 'applications', '.', 'cloud', 'computing', 'can', 'offer', 'access', 'to', 'large', 'amounts', 'of', 'computational', 'power', 'and', 'storage', '.', '[', '30', ']', 'in', 'big', 'data', ',', 'where', 'volumes', 'of', 'information', 'are', 'continually', 'generated', 'and', 'processed', ',', 'these', 'platforms', 'can', 'be', 'used', 'to', 'handle', 'complex', 'and', 'resource-intensive', 'analytical', 'tasks', '.', '[', '31', ']', 'some', 'distributed', 'computing', 'frameworks', 'are', 'designed', 'to', 'handle', 'big', 'data', 'workloads', '.', 'these', 'frameworks', 'can', 'enable', 'data', 'scientists', 'to', 'process', 'and', 'analyze', 'large', 'datasets', 'in', 'parallel', ',', 'which', 'can', 'reduce', 'processing', 'times', '.', '[', '32', ']', 'ethical', 'consideration', 'in', 'data', 'science', 'data', 'science', 'involves', 'collecting', ',', 'processing', ',', 'and', 'analyzing', 'data', 'which', 'often', 'includes', 'personal', 'and', 'sensitive', 'information', '.', 'ethical', 'concerns', 'include', 'potential', 'privacy', 'violations', ',', 'bias', 'perpetuation', ',', 'and', 'negative', 'societal', 'impacts', '.', '[', '33', ']', '[', '34', ']', 'machine', 'learning', 'models', 'can', 'amplify', 'existing', 'biases', 'present', 'in', 'training', 'data', ',', 'leading', 'to', 'discriminatory', 'or', 'unfair', 'outcomes', '.', '[', '35', ']', '[', '36', ']', 'see', 'also', 'python', '(', 'programming', 'language', ')', 'r', '(', 'programming', 'language', ')', 'data', 'engineering', 'big', 'data', 'machine', 'learning', 'bioinformatics', 'astroinformatics', 'topological', 'data', 'analysis', 'list', 'of', 'open-source', 'data', 'science', 'software', 'references', 'donoho', ',', 'david', '(', '2017', ')', '.', '``', '50', 'years', 'of', 'data', 'science', \"''\", '.', 'journal', 'of', 'computational', 'and', 'graphical', 'statistics', '.', '26', '(', '4', ')', ':', '745–766', '.', 'doi:10.1080/10618600.2017.1384734', '.', 's2cid', '114558008.', 'dhar', ',', 'v.', '(', '2013', ')', '.', '``', 'data', 'science', 'and', 'prediction', \"''\", '.', 'communications', 'of', 'the', 'acm', '.', '56', '(', '12', ')', ':', '64–73', '.', 'doi:10.1145/2500499', '.', 's2cid', '6107147.', 'archived', 'from', 'the', 'original', 'on', '9', 'november', '2014.', 'retrieved', '2', 'september', '2015.', 'danyluk', ',', 'a.', ';', 'leidig', ',', 'p.', '(', '2021', ')', '.', 'computing', 'competencies', 'for', 'undergraduate', 'data', 'science', 'curricula', '(', 'pdf', ')', '.', 'acm', 'data', 'science', 'task', 'force', 'final', 'report', '(', 'report', ')', '.', 'mike', ',', 'koby', ';', 'hazzan', ',', 'orit', '(', '20', 'january', '2023', ')', '.', '``', 'what', 'is', 'data', 'science', '?', \"''\", '.', 'communications', 'of', 'the', 'acm', '.', '66', '(', '2', ')', ':', '12–13', '.', 'doi:10.1145/3575663', '.', 'issn', '0001-0782.', 'hayashi', ',', 'chikio', '(', '1', 'january', '1998', ')', '.', '``', 'what', 'is', 'data', 'science', '?', 'fundamental', 'concepts', 'and', 'a', 'heuristic', 'example', \"''\", '.', 'in', 'hayashi', ',', 'chikio', ';', 'yajima', ',', 'keiji', ';', 'bock', ',', 'hans-hermann', ';', 'ohsumi', ',', 'noboru', ';', 'tanaka', ',', 'yutaka', ';', 'baba', ',', 'yasumasa', '(', 'eds.', ')', '.', 'data', 'science', ',', 'classification', ',', 'and', 'related', 'methods', '.', 'studies', 'in', 'classification', ',', 'data', 'analysis', ',', 'and', 'knowledge', 'organization', '.', 'springer', 'japan', '.', 'pp', '.', '40–51', '.', 'doi:10.1007/978-4-431-65950-1_3', '.', 'isbn', '9784431702085.', 'cao', ',', 'longbing', '(', '29', 'june', '2017', ')', '.', '``', 'data', 'science', ':', 'a', 'comprehensive', 'overview', \"''\", '.', 'acm', 'computing', 'surveys', '.', '50', '(', '3', ')', ':', '43:1–43:42.', 'arxiv:2007.03606.', 'doi:10.1145/3076253', '.', 'issn', '0360-0300.', 's2cid', '207595944.', 'tony', 'hey', ';', 'stewart', 'tansley', ';', 'kristin', 'michele', 'tolle', '(', '2009', ')', '.', 'the', 'fourth', 'paradigm', ':', 'data-intensive', 'scientific', 'discovery', '.', 'microsoft', 'research', '.', 'isbn', '978-0-9825442-0-4.', 'archived', 'from', 'the', 'original', 'on', '20', 'march', '2017.', 'bell', ',', 'g.', ';', 'hey', ',', 't.', ';', 'szalay', ',', 'a', '.', '(', '2009', ')', '.', '``', 'computer', 'science', ':', 'beyond', 'the', 'data', 'deluge', \"''\", '.', 'science', '.', '323', '(', '5919', ')', ':', '1297–1298', '.', 'doi:10.1126/science.1170411', '.', 'issn', '0036-8075.', 'pmid', '19265007.', 's2cid', '9743327.', 'davenport', ',', 'thomas', 'h.', ';', 'patil', ',', 'd.', 'j', '.', '(', 'october', '2012', ')', '.', '``', 'data', 'scientist', ':', 'the', 'sexiest', 'job', 'of', 'the', '21st', 'century', \"''\", '.', 'harvard', 'business', 'review', '.', '90', '(', '10', ')', ':', '70–76', ',', '128.', 'pmid', '23074866.', 'retrieved', '18', 'january', '2016.', 'emmert-streib', ',', 'frank', ';', 'dehmer', ',', 'matthias', '(', '2018', ')', '.', '``', 'defining', 'data', 'science', 'by', 'a', 'data-driven', 'quantification', 'of', 'the', 'community', \"''\", '.', 'machine', 'learning', 'and', 'knowledge', 'extraction', '.', '1', ':', '235–251', '.', 'doi:10.3390/make1010015', '.', '``', '1.', 'introduction', ':', 'what', 'is', 'data', 'science', '?', \"''\", '.', 'doing', 'data', 'science', '[', 'book', ']', '.', 'o', '’', 'reilly', '.', 'retrieved', '3', 'april', '2020.', 'vasant', 'dhar', '(', '1', 'december', '2013', ')', '.', '``', 'data', 'science', 'and', 'prediction', \"''\", '.', 'communications', 'of', 'the', 'acm', '.', '56', '(', '12', ')', ':', '64–73', '.', 'doi:10.1145/2500499', '.', 's2cid', '6107147', '.', '``', 'statistics', 'is', 'the', 'least', 'important', 'part', 'of', 'data', 'science', '«', 'statistical', 'modeling', ',', 'causal', 'inference', ',', 'and', 'social', 'science', \"''\", '.', 'statmodeling.stat.columbia.edu', '.', 'retrieved', '3', 'april', '2020.', 'donoho', ',', 'david', '(', '18', 'september', '2015', ')', '.', '``', '50', 'years', 'of', 'data', 'science', \"''\", '(', 'pdf', ')', '.', 'retrieved', '2', 'april', '2020.', 'wu', ',', 'c.', 'f.', 'jeff', '(', '1986', ')', '.', '``', 'future', 'directions', 'of', 'statistical', 'research', 'in', 'china', ':', 'a', 'historical', 'perspective', \"''\", '(', 'pdf', ')', '.', 'application', 'of', 'statistics', 'and', 'management', '.', '1', ':', '1–7', '.', 'retrieved', '29', 'november', '2020.', 'escoufier', ',', 'yves', ';', 'hayashi', ',', 'chikio', ';', 'fichet', ',', 'bernard', ',', 'eds', '.', '(', '1995', ')', '.', 'data', 'science', 'and', 'its', 'applications', '.', 'tokyo', ':', 'academic', 'press/harcourt', 'brace', '.', 'isbn', '0-12-241770-4.', 'oclc', '489990740.', 'murtagh', ',', 'fionn', ';', 'devlin', ',', 'keith', '(', '2018', ')', '.', '``', 'the', 'development', 'of', 'data', 'science', ':', 'implications', 'for', 'education', ',', 'employment', ',', 'research', ',', 'and', 'the', 'data', 'revolution', 'for', 'sustainable', 'development', \"''\", '.', 'big', 'data', 'and', 'cognitive', 'computing', '.', '2', '(', '2', ')', ':', '14.', 'doi:10.3390/bdcc2020014', '.', 'wu', ',', 'c.', 'f.', 'jeff', '.', '``', 'statistics=data', 'science', '?', \"''\", '(', 'pdf', ')', '.', 'retrieved', '2', 'april', '2020.', 'davenport', ',', 'thomas', '(', '1', 'october', '2012', ')', '.', '``', 'data', 'scientist', ':', 'the', 'sexiest', 'job', 'of', 'the', '21st', 'century', \"''\", '.', 'harvard', 'business', 'review', '.', 'retrieved', '10', 'october', '2022.', 'miller', ',', 'claire', '(', '4', 'april', '2013', ')', '.', '``', 'data', 'science', ':', 'the', 'numbers', 'of', 'our', 'lives', \"''\", '.', 'new', 'york', 'times', '.', 'new', 'york', 'city', '.', 'retrieved', '10', 'october', '2022.', 'borchers', ',', 'callum', '(', '11', 'november', '2015', ')', '.', '``', 'behind', 'the', 'scenes', 'of', 'the', \"'sexiest\", 'job', 'of', 'the', '21st', 'century', \"'\", \"''\", '.', 'boston', 'globe', '.', 'boston', '.', 'retrieved', '10', 'october', '2022.', 'davenport', ',', 'thomas', '(', '15', 'july', '2022', ')', '.', '``', 'is', 'data', 'scientist', 'still', 'the', 'sexiest', 'job', 'of', 'the', '21st', 'century', '?', \"''\", '.', 'harvard', 'business', 'review', '.', 'retrieved', '10', 'october', '2022.', 'gupta', ',', 'shanti', '(', '11', 'december', '2015', ')', '.', '``', 'william', 's.', 'cleveland', \"''\", '.', 'retrieved', '2', 'april', '2020.', 'talley', ',', 'jill', '(', '1', 'june', '2016', ')', '.', '``', 'asa', 'expands', 'scope', ',', 'outreach', 'to', 'foster', 'growth', ',', 'collaboration', 'in', 'data', 'science', \"''\", '.', 'amstat', 'news', '.', 'american', 'statistical', 'association', '..', 'in', '2013', 'the', 'first', 'european', 'conference', 'on', 'data', 'analysis', '(', 'ecda2013', ')', 'started', 'in', 'luxembourg', 'the', 'process', 'which', 'founded', 'the', 'european', 'association', 'for', 'data', 'science', '(', 'euads', ')', 'www.euads.org', 'in', 'luxembourg', 'in', '2015.', 'davenport', ',', 'thomas', 'h.', ';', 'patil', ',', 'd.', 'j', '.', '(', '1', 'october', '2012', ')', '.', '``', 'data', 'scientist', ':', 'the', 'sexiest', 'job', 'of', 'the', '21st', 'century', \"''\", '.', 'harvard', 'business', 'review', '.', 'no', '.', 'october', '2012.', 'issn', '0017-8012.', 'retrieved', '3', 'april', '2020', '.', '``', 'us', 'nsf', '–', 'nsb-05-40', ',', 'long-lived', 'digital', 'data', 'collections', 'enabling', 'research', 'and', 'education', 'in', 'the', '21st', 'century', \"''\", '.', 'www.nsf.gov', '.', 'retrieved', '3', 'april', '2020.', 'james', ',', 'gareth', ';', 'witten', ',', 'daniela', ';', 'hastie', ',', 'trevor', ';', 'tibshirani', ',', 'robert', '(', '29', 'september', '2017', ')', '.', 'an', 'introduction', 'to', 'statistical', 'learning', ':', 'with', 'applications', 'in', 'r.', 'springer', '.', 'provost', ',', 'foster', ';', 'tom', 'fawcett', '(', '1', 'august', '2013', ')', '.', '``', 'data', 'science', 'for', 'business', ':', 'what', 'you', 'need', 'to', 'know', 'about', 'data', 'mining', 'and', 'data-analytic', 'thinking', \"''\", '.', \"o'reilly\", 'media', ',', 'inc.', 'han', ',', 'kamber', ';', 'pei', '(', '2011', ')', '.', 'data', 'mining', ':', 'concepts', 'and', 'techniques', '.', 'isbn', '9780123814791.', 'hashem', ',', 'ibrahim', 'abaker', 'targio', ';', 'yaqoob', ',', 'ibrar', ';', 'anuar', ',', 'nor', 'badrul', ';', 'mokhtar', ',', 'salimah', ';', 'gani', ',', 'abdullah', ';', 'ullah', 'khan', ',', 'samee', '(', '2015', ')', '.', '``', 'the', 'rise', 'of', '``', 'big', 'data', \"''\", 'on', 'cloud', 'computing', ':', 'review', 'and', 'open', 'research', 'issues', \"''\", '.', 'information', 'systems', '.', '47', ':', '98–115', '.', 'doi:10.1016/j.is.2014.07.006', '.', 'qiu', ',', 'junfei', ';', 'wu', ',', 'qihui', ';', 'ding', ',', 'guoru', ';', 'xu', ',', 'yuhua', ';', 'feng', ',', 'shuo', '(', '2016', ')', '.', '``', 'a', 'survey', 'of', 'machine', 'learning', 'for', 'big', 'data', 'processing', \"''\", '.', 'eurasip', 'journal', 'on', 'advances', 'in', 'signal', 'processing', '.', '2016', '(', '1', ')', '.', 'doi:10.1186/s13634-016-0355-x', '.', 'issn', '1687-6180.', 'armbrust', ',', 'michael', ';', 'xin', ',', 'reynold', 's.', ';', 'lian', ',', 'cheng', ';', 'huai', ',', 'yin', ';', 'liu', ',', 'davies', ';', 'bradley', ',', 'joseph', 'k.', ';', 'meng', ',', 'xiangrui', ';', 'kaftan', ',', 'tomer', ';', 'franklin', ',', 'michael', 'j.', ';', 'ghodsi', ',', 'ali', ';', 'zaharia', ',', 'matei', '(', '27', 'may', '2015', ')', '.', '``', 'spark', 'sql', ':', 'relational', 'data', 'processing', 'in', 'spark', \"''\", '.', 'proceedings', 'of', 'the', '2015', 'acm', 'sigmod', 'international', 'conference', 'on', 'management', 'of', 'data', '.', 'acm', '.', 'pp', '.', '1383–1394', '.', 'doi:10.1145/2723372.2742797', '.', 'isbn', '978-1-4503-2758-9.', 'floridi', ',', 'luciano', ';', 'taddeo', ',', 'mariarosaria', '(', '28', 'december', '2016', ')', '.', '``', 'what', 'is', 'data', 'ethics', '?', \"''\", '.', 'philosophical', 'transactions', 'of', 'the', 'royal', 'society', 'a', ':', 'mathematical', ',', 'physical', 'and', 'engineering', 'sciences', '.', '374', '(', '2083', ')', ':', '20160360.', 'bibcode:2016rspta.37460360f', '.', 'doi:10.1098/rsta.2016.0360', '.', 'issn', '1364-503x', '.', 'pmc', '5124072.', 'pmid', '28336805.', 'mittelstadt', ',', 'brent', 'daniel', ';', 'floridi', ',', 'luciano', '(', '2016', ')', '.', '``', 'the', 'ethics', 'of', 'big', 'data', ':', 'current', 'and', 'foreseeable', 'issues', 'in', 'biomedical', 'contexts', \"''\", '.', 'science', 'and', 'engineering', 'ethics', '.', '22', '(', '2', ')', ':', '303–341', '.', 'doi:10.1007/s11948-015-9652-2', '.', 'issn', '1353-3452.', 'pmid', '26002496.', 'barocas', ',', 'solon', ';', 'selbst', ',', 'andrew', 'd', '(', '2016', ')', '.', '``', 'big', 'data', \"'s\", 'disparate', 'impact', \"''\", '.', 'california', 'law', 'review', '.', 'doi:10.15779/z38bg31', '–', 'via', 'berkeley', 'law', 'library', 'catalog', '.', 'caliskan', ',', 'aylin', ';', 'bryson', ',', 'joanna', 'j.', ';', 'narayanan', ',', 'arvind', '(', '14', 'april', '2017', ')', '.', '``', 'semantics', 'derived', 'automatically', 'from', 'language', 'corpora', 'contain', 'human-like', 'biases', \"''\", '.', 'science', '.', '356', '(', '6334', ')', ':', '183–186', '.', 'arxiv:1608.07187.', 'bibcode:2017sci', '...', '356', '..', '183c', '.', 'doi:10.1126/science.aal4230', '.', 'issn', '0036-8075', '.']\n",
            "['data science is an interdisciplinary academic field[1] that uses statistics, scientific computing, scientific methods, processing, scientific visualization, algorithms and systems to extract or extrapolate knowledge from potentially noisy, structured, or unstructured data.', '[2]\\n\\ndata science also integrates domain knowledge from the underlying application domain (e.g., natural sciences, information technology, and medicine).', '[3] data science is multifaceted and can be described as a science, a research paradigm, a research method, a discipline, a workflow, and a profession.', '[4]\\n\\ndata science is \"a concept to unify statistics, data analysis, informatics, and their related methods\" to \"understand and analyze actual phenomena\" with data.', '[5] it uses techniques and theories drawn from many fields within the context of mathematics, statistics, computer science, information science, and domain knowledge.', '[6] however, data science is different from computer science and information science.', 'turing award winner jim gray imagined data science as a \"fourth paradigm\" of science (empirical, theoretical, computational, and now data-driven) and asserted that \"everything about science is changing because of the impact of information technology\" and the data deluge.', '[7][8]\\n\\na data scientist is a professional who creates programming code and combines it with statistical knowledge to summarize data.', '[9]\\n\\nfoundations\\ndata science is an interdisciplinary field[10] focused on extracting knowledge from typically large data sets and applying the knowledge from that data to solve problems in other application domains.', 'the field encompasses preparing data for analysis, formulating data science problems, analyzing data, and summarizing these findings.', 'as such, it incorporates skills from computer science, mathematics, data visualization, graphic design, communication, and business.', '[11]\\n\\nvasant dhar writes that statistics emphasizes quantitative data and description.', 'in contrast, data science deals with quantitative and qualitative data (e.g., from images, text, sensors, transactions, customer information, etc.)', 'and emphasizes prediction and action.', '[12] andrew gelman of columbia university has described statistics as a non-essential part of data science.', '[13] stanford professor david donoho writes that data science is not distinguished from statistics by the size of datasets or use of computing and that many graduate programs misleadingly advertise their analytics and statistics training as the essence of a data-science program.', 'he describes data science as an applied field growing out of traditional statistics.', '[14]\\n\\netymology\\nearly usage\\nin 1962, john tukey described a field he called \"data analysis\", which resembles modern data science.', '[14] in 1985, in a lecture given to the chinese academy of sciences in beijing, c. f. jeff wu used the term \"data science\" for the first time as an alternative name for statistics.', '[15] later, attendees at a 1992 statistics symposium at the university of montpellier  ii acknowledged the emergence of a new discipline focused on data of various origins and forms, combining established concepts and principles of statistics and data analysis with computing.', '[16][17]\\n\\nthe term \"data science\" has been traced back to 1974, when peter naur proposed it as an alternative name to computer science.', '[6] in 1996, the international federation of classification societies became the first conference to specifically feature data science as a topic.', '[6] however, the definition was still in flux.', 'after the 1985 lecture at the chinese academy of sciences in beijing, in 1997 c. f. jeff wu again suggested that statistics should be renamed data science.', 'he reasoned that a new name would help statistics shed inaccurate stereotypes, such as being synonymous with accounting or limited to describing data.', '[18] in 1998, hayashi chikio argued for data science as a new, interdisciplinary concept, with three aspects: data design, collection, and analysis.', '[17]\\n\\nmodern usage\\nin 2012, technologists thomas h. davenport and dj patil declared \"data scientist: the sexiest job of the 21st century\",[19] a catchphrase that was picked up even by major-city newspapers like the new york times[20] and the boston globe.', '[21] a decade later, they reaffirmed it, stating that \"the job is more in demand than ever with employers\".', '[22]\\n\\nthe modern conception of data science as an independent discipline is sometimes attributed to william s.', 'cleveland.', \"[23] in 2014, the american statistical association's section on statistical learning and data mining changed its name to the section on statistical learning and data science, reflecting the ascendant popularity of data science.\", '[24]\\n\\nthe professional title of \"data scientist\" has been attributed to dj patil and jeff hammerbacher in 2008.', '[25] though it was used by the national science board in their 2005 report \"long-lived digital data collections: enabling research and education in the 21st century\", it referred broadly to any key role in managing a digital data collection.', '[26]\\n\\ndata science and data analysis\\nsummary statistics and scatterplots showing the datasaurus dozen data set\\nexample for the usefulness of exploratory data analysis as demonstrated using the datasaurus dozen data set\\n\\ndata science is at the intersection of mathematics, computer science and domain expertise.', 'data analysis typically involves working with structured datasets to answer specific questions or solve specific problems.', 'this can involve tasks such as data cleaning and data visualization to summarize data and develop hypotheses about relationships between variables.', 'data analysts typically use statistical methods to test these hypotheses and draw conclusions from the data.', '[27]\\n\\ndata science involves working with larger datasets that often require advanced computational and statistical methods to analyze.', 'data scientists often work with unstructured data such as text or images and use machine learning algorithms to build predictive models.', 'data science often uses statistical analysis, data preprocessing, and supervised learning.', '[28][29]\\n\\ncloud computing for data science\\n\\na cloud-based architecture for enabling big data analytics.', 'data flows from various sources, such as personal computers, laptops, and smart phones, through cloud services for processing and analysis, finally leading to various big data applications.', 'cloud computing can offer access to large amounts of computational power and storage.', '[30] in big data, where volumes of information are continually generated and processed, these platforms can be used to handle complex and resource-intensive analytical tasks.', '[31]\\n\\nsome distributed computing frameworks are designed to handle big data workloads.', 'these frameworks can enable data scientists to process and analyze large datasets in parallel, which can reduce processing times.', '[32]\\n\\nethical consideration in data science\\ndata science involves collecting, processing, and analyzing data which often includes personal and sensitive information.', 'ethical concerns include potential privacy violations, bias perpetuation, and negative societal impacts.', '[33][34]\\n\\nmachine learning models can amplify existing biases present in training data, leading to discriminatory or unfair outcomes.', '[35][36]\\n\\nsee also\\npython (programming language)\\nr (programming language)\\ndata engineering\\nbig data\\nmachine learning\\nbioinformatics\\nastroinformatics\\ntopological data analysis\\nlist of open-source data science software\\nreferences\\n donoho, david (2017).', '\"50 years of data science\".', 'journal of computational and graphical statistics.', '26 (4): 745–766.', 'doi:10.1080/10618600.2017.1384734.', 's2cid 114558008.\\n dhar, v. (2013).', '\"data science and prediction\".', 'communications of the acm.', '56 (12): 64–73.', 'doi:10.1145/2500499.', 's2cid 6107147. archived from the original on 9 november 2014. retrieved 2 september 2015.\\n danyluk, a.; leidig, p. (2021).', 'computing competencies for undergraduate data science curricula (pdf).', 'acm data science task force final report (report).', 'mike, koby; hazzan, orit (20 january 2023).', '\"what is data science?\".', 'communications of the acm.', '66 (2): 12–13.', 'doi:10.1145/3575663.', 'issn 0001-0782.\\n hayashi, chikio (1 january 1998).', '\"what is data science ?', 'fundamental concepts and a heuristic example\".', 'in hayashi, chikio; yajima, keiji; bock, hans-hermann; ohsumi, noboru; tanaka, yutaka; baba, yasumasa (eds.).', 'data science, classification, and related methods.', 'studies in classification, data analysis, and knowledge organization.', 'springer japan.', 'pp.', '40–51.', 'doi:10.1007/978-4-431-65950-1_3.', 'isbn 9784431702085.\\n cao, longbing (29 june 2017).', '\"data science: a comprehensive overview\".', 'acm computing surveys.', '50 (3): 43:1–43:42. arxiv:2007.03606. doi:10.1145/3076253.', 'issn 0360-0300. s2cid 207595944.\\n tony hey; stewart tansley; kristin michele tolle (2009).', 'the fourth paradigm: data-intensive scientific discovery.', 'microsoft research.', 'isbn 978-0-9825442-0-4. archived from the original on 20 march 2017.\\n bell, g.; hey, t.; szalay, a.', '(2009).', '\"computer science: beyond the data deluge\".', 'science.', '323 (5919): 1297–1298.', 'doi:10.1126/science.1170411.', 'issn 0036-8075. pmid 19265007. s2cid 9743327.\\n davenport, thomas h.; patil, d. j.', '(october 2012).', '\"data scientist: the sexiest job of the 21st century\".', 'harvard business review.', '90 (10): 70–76, 128. pmid 23074866. retrieved 18 january 2016.\\n emmert-streib, frank; dehmer, matthias (2018).', '\"defining data science by a data-driven quantification of the community\".', 'machine learning and knowledge extraction.', '1: 235–251.', 'doi:10.3390/make1010015.', '\"1. introduction: what is data science?\".', 'doing data science [book].', 'o’reilly.', 'retrieved 3 april 2020.\\n vasant dhar (1 december 2013).', '\"data science and prediction\".', 'communications of the acm.', '56 (12): 64–73.', 'doi:10.1145/2500499.', 's2cid 6107147.', '\"statistics is the least important part of data science « statistical modeling, causal inference, and social science\".', 'statmodeling.stat.columbia.edu.', 'retrieved 3 april 2020.\\n donoho, david (18 september 2015).', '\"50 years of data science\" (pdf).', 'retrieved 2 april 2020.\\n wu, c. f. jeff (1986).', '\"future directions of statistical research in china: a historical perspective\" (pdf).', 'application of statistics and management.', '1: 1–7.', 'retrieved 29 november 2020.\\n escoufier, yves; hayashi, chikio; fichet, bernard, eds.', '(1995).', 'data science and its applications.', 'tokyo: academic press/harcourt brace.', 'isbn 0-12-241770-4. oclc 489990740.\\n murtagh, fionn; devlin, keith (2018).', '\"the development of data science: implications for education, employment, research, and the data revolution for sustainable development\".', 'big data and cognitive computing.', '2 (2): 14. doi:10.3390/bdcc2020014.', 'wu, c. f. jeff.', '\"statistics=data science?\"', '(pdf).', 'retrieved 2 april 2020.\\n davenport, thomas (1 october 2012).', '\"data scientist: the sexiest job of the 21st century\".', 'harvard business review.', 'retrieved 10 october 2022.\\n miller, claire (4 april 2013).', '\"data science: the numbers of our lives\".', 'new york times.', 'new york city.', 'retrieved 10 october 2022.\\n borchers, callum (11 november 2015).', '\"behind the scenes of the \\'sexiest job of the 21st century\\'\".', 'boston globe.', 'boston.', 'retrieved 10 october 2022.\\n davenport, thomas (15 july 2022).', '\"is data scientist still the sexiest job of the 21st century?\".', 'harvard business review.', 'retrieved 10 october 2022.\\n gupta, shanti (11 december 2015).', '\"william s. cleveland\".', 'retrieved 2 april 2020.\\n talley, jill (1 june 2016).', '\"asa expands scope, outreach to foster growth, collaboration in data science\".', 'amstat news.', 'american statistical association.. in 2013 the first european conference on data analysis (ecda2013) started in luxembourg the process which founded the european association for data science (euads) www.euads.org in luxembourg in 2015.\\n davenport, thomas h.; patil, d. j.', '(1 october 2012).', '\"data scientist: the sexiest job of the 21st century\".', 'harvard business review.', 'no.', 'october 2012. issn 0017-8012. retrieved 3 april 2020.', '\"us nsf – nsb-05-40, long-lived digital data collections enabling research and education in the 21st century\".', 'www.nsf.gov.', 'retrieved 3 april 2020.\\n james, gareth; witten, daniela; hastie, trevor; tibshirani, robert (29 september 2017).', 'an introduction to statistical learning: with applications in r. springer.', 'provost, foster; tom fawcett (1 august 2013).', '\"data science for business: what you need to know about data mining and data-analytic thinking\".', \"o'reilly media, inc.\\n han, kamber; pei (2011).\", 'data mining: concepts and techniques.', 'isbn 9780123814791.\\n hashem, ibrahim abaker targio; yaqoob, ibrar; anuar, nor badrul; mokhtar, salimah; gani, abdullah; ullah khan, samee (2015).', '\"the rise of \"big data\" on cloud computing: review and open research issues\".', 'information systems.', '47: 98–115.', 'doi:10.1016/j.is.2014.07.006.', 'qiu, junfei; wu, qihui; ding, guoru; xu, yuhua; feng, shuo (2016).', '\"a survey of machine learning for big data processing\".', 'eurasip journal on advances in signal processing.', '2016 (1).', 'doi:10.1186/s13634-016-0355-x.', 'issn 1687-6180.\\n armbrust, michael; xin, reynold s.; lian, cheng; huai, yin; liu, davies; bradley, joseph k.; meng, xiangrui; kaftan, tomer; franklin, michael j.; ghodsi, ali; zaharia, matei (27 may 2015).', '\"spark sql: relational data processing in spark\".', 'proceedings of the 2015 acm sigmod international conference on management of data.', 'acm.', 'pp.', '1383–1394.', 'doi:10.1145/2723372.2742797.', 'isbn 978-1-4503-2758-9.\\n floridi, luciano; taddeo, mariarosaria (28 december 2016).', '\"what is data ethics?\".', 'philosophical transactions of the royal society a: mathematical, physical and engineering sciences.', '374 (2083): 20160360. bibcode:2016rspta.37460360f.', 'doi:10.1098/rsta.2016.0360.', 'issn 1364-503x.', 'pmc 5124072. pmid 28336805.\\n mittelstadt, brent daniel; floridi, luciano (2016).', '\"the ethics of big data: current and foreseeable issues in biomedical contexts\".', 'science and engineering ethics.', '22 (2): 303–341.', 'doi:10.1007/s11948-015-9652-2.', 'issn 1353-3452. pmid 26002496.\\n barocas, solon; selbst, andrew d (2016).', '\"big data\\'s disparate impact\".', 'california law review.', 'doi:10.15779/z38bg31 – via berkeley law library catalog.', 'caliskan, aylin; bryson, joanna j.; narayanan, arvind (14 april 2017).', '\"semantics derived automatically from language corpora contain human-like biases\".', 'science.', '356 (6334): 183–186.', 'arxiv:1608.07187. bibcode:2017sci...356..183c.', 'doi:10.1126/science.aal4230.', 'issn 0036-8075.']\n"
          ]
        }
      ]
    },
    {
      "cell_type": "markdown",
      "source": [
        "#Text Preprocessing"
      ],
      "metadata": {
        "id": "R1Q4zFH6-gtl"
      }
    },
    {
      "cell_type": "code",
      "source": [
        "import string\n",
        "\n",
        "lemmar = nltk.stem.WordNetLemmatizer()\n",
        "\n",
        "def tok_lemma(tokens):\n",
        "  return [lemmar.lemmatize(i) for i in tokens]\n",
        "#----------------------------------------------------------------\n",
        "remove_puc_dict = dict((ord(k),None) for k in string.punctuation)\n",
        "#----------------------------------------------------------------\n",
        "def lemNormalize(text):\n",
        "  return tok_lemma(nltk.word_tokenize(text.lower().translate(remove_puc_dict)))\n"
      ],
      "metadata": {
        "id": "91tkEp5S-dgP"
      },
      "execution_count": 6,
      "outputs": []
    },
    {
      "cell_type": "markdown",
      "source": [
        "#Greet Function"
      ],
      "metadata": {
        "id": "SHfgOfJOBqR8"
      }
    },
    {
      "cell_type": "code",
      "source": [
        "greet_input = ('hey','hello','gretings','sup','whats up')\n",
        "greet_response = ['hey','hello','hi there','whats going one','I am glad!']"
      ],
      "metadata": {
        "id": "QJvL0UKEBpb8"
      },
      "execution_count": 7,
      "outputs": []
    },
    {
      "cell_type": "code",
      "source": [
        "def greet(sentence):\n",
        "  for word in sentence.split():\n",
        "    if word.lower() in greet_input:\n",
        "      return random.choice(greet_response)"
      ],
      "metadata": {
        "id": "1Dc9anXNCuhT"
      },
      "execution_count": 8,
      "outputs": []
    },
    {
      "cell_type": "markdown",
      "source": [
        "\n",
        "#Cecking similarity between user input and existed text"
      ],
      "metadata": {
        "id": "11SUIZp_DelV"
      }
    },
    {
      "cell_type": "code",
      "source": [
        "from sklearn.feature_extraction.text import TfidfVectorizer\n",
        "from sklearn.metrics.pairwise import cosine_similarity"
      ],
      "metadata": {
        "id": "vx2KX-N4D45W"
      },
      "execution_count": 9,
      "outputs": []
    },
    {
      "cell_type": "code",
      "source": [
        "def response(user_input):\n",
        "  robo1_res = \"\"\n",
        "  tfidfvec = TfidfVectorizer(tokenizer = lemNormalize, stop_words = 'english')\n",
        "  tfidf = tfidfvec.fit_transform(sent_token)\n",
        "  vals = cosine_similarity(tfidf[-1],tfidf)\n",
        "  idx = vals.argsort()[0][-2]\n",
        "  flat = vals.flatten()\n",
        "  flat.sort()\n",
        "  reg_tfidf = flat[-2]\n",
        "\n",
        "  if reg_tfidf==0:\n",
        "    robo1_res = robo1_res+\"I am sorry I don't understand you\"\n",
        "    return robo1_res\n",
        "\n",
        "  else:\n",
        "    robo1_res = robo1_res+sent_token[idx]\n",
        "\n",
        "  return robo1_res\n"
      ],
      "metadata": {
        "id": "gfh7aH4eDWZm"
      },
      "execution_count": 10,
      "outputs": []
    },
    {
      "cell_type": "markdown",
      "source": [
        "#Conversation Start End Protocols"
      ],
      "metadata": {
        "id": "ritB3LK1GcMy"
      }
    },
    {
      "cell_type": "code",
      "source": [
        "nltk.download('wordnet')"
      ],
      "metadata": {
        "colab": {
          "base_uri": "https://localhost:8080/"
        },
        "id": "gNglusMLOIdp",
        "outputId": "88a430a8-bc31-4d17-8579-b0e3f6f5fdaa"
      },
      "execution_count": 11,
      "outputs": [
        {
          "output_type": "stream",
          "name": "stderr",
          "text": [
            "[nltk_data] Downloading package wordnet to /root/nltk_data...\n"
          ]
        },
        {
          "output_type": "execute_result",
          "data": {
            "text/plain": [
              "True"
            ]
          },
          "metadata": {},
          "execution_count": 11
        }
      ]
    },
    {
      "cell_type": "code",
      "source": [
        "flag = True\n",
        "print('Bot: Welcome to chatbot. If you want to exit type bye')\n",
        "\n",
        "while flag==True:\n",
        "  user_response = input()\n",
        "  user_response = user_response.lower()\n",
        "\n",
        "  if user_response != 'bye':\n",
        "    if user_response==\"thank you\":\n",
        "      flag = False\n",
        "      print(\"Bot: You are welcome\")\n",
        "\n",
        "    else:\n",
        "      sent_token.append(user_response)\n",
        "      word_token = word_token + nltk.word_tokenize(user_response)\n",
        "      final_words = list(set(word_token))\n",
        "\n",
        "      print(\"Bot:\",end=\"\")\n",
        "      print(response(user_response))\n",
        "      sent_token.remove(user_response)\n",
        "\n",
        "  else:\n",
        "    flag = False\n",
        "    print(\"Bot: Bye! take care\")"
      ],
      "metadata": {
        "colab": {
          "base_uri": "https://localhost:8080/"
        },
        "id": "_nKS_04aGeT5",
        "outputId": "ff569ba2-9134-45cb-f2fd-dce412aa28c7"
      },
      "execution_count": 16,
      "outputs": [
        {
          "output_type": "stream",
          "name": "stdout",
          "text": [
            "Bot: Welcome to chatbot. If you want to exit type bye\n",
            "foundations\n",
            "Bot:[9]\n",
            "\n",
            "foundations\n",
            "data science is an interdisciplinary field[10] focused on extracting knowledge from typically large data sets and applying the knowledge from that data to solve problems in other application domains.\n",
            "etymology\n",
            "Bot:[14]\n",
            "\n",
            "etymology\n",
            "early usage\n",
            "in 1962, john tukey described a field he called \"data analysis\", which resembles modern data science.\n",
            "woman's criket\n",
            "Bot:I am sorry I don't understand you\n",
            "thank you\n",
            "Bot: You are welcome\n"
          ]
        }
      ]
    },
    {
      "cell_type": "code",
      "source": [
        "\n",
        "# foundations\n",
        "# Women's cricket\n",
        "# thank you\n",
        "# bye"
      ],
      "metadata": {
        "id": "BxchS4uiO9e3"
      },
      "execution_count": null,
      "outputs": []
    }
  ]
}